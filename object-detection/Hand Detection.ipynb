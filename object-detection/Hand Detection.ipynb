{
 "cells": [
  {
   "cell_type": "markdown",
   "id": "f1e3fcfb",
   "metadata": {},
   "source": [
    "# Hand Detection"
   ]
  },
  {
   "cell_type": "code",
   "execution_count": 1,
   "id": "8783d68d",
   "metadata": {
    "scrolled": true
   },
   "outputs": [
    {
     "name": "stderr",
     "output_type": "stream",
     "text": [
      "2023-09-20 23:46:05.019311: I tensorflow/core/util/port.cc:110] oneDNN custom operations are on. You may see slightly different numerical results due to floating-point round-off errors from different computation orders. To turn them off, set the environment variable `TF_ENABLE_ONEDNN_OPTS=0`.\n",
      "2023-09-20 23:46:05.021426: I tensorflow/tsl/cuda/cudart_stub.cc:28] Could not find cuda drivers on your machine, GPU will not be used.\n",
      "2023-09-20 23:46:05.066861: I tensorflow/tsl/cuda/cudart_stub.cc:28] Could not find cuda drivers on your machine, GPU will not be used.\n",
      "2023-09-20 23:46:05.067659: I tensorflow/core/platform/cpu_feature_guard.cc:182] This TensorFlow binary is optimized to use available CPU instructions in performance-critical operations.\n",
      "To enable the following instructions: AVX2 AVX_VNNI FMA, in other operations, rebuild TensorFlow with the appropriate compiler flags.\n",
      "2023-09-20 23:46:05.795003: W tensorflow/compiler/tf2tensorrt/utils/py_utils.cc:38] TF-TRT Warning: Could not find TensorRT\n"
     ]
    }
   ],
   "source": [
    "import cv2\n",
    "import mediapipe as mp"
   ]
  },
  {
   "cell_type": "code",
   "execution_count": 2,
   "id": "bcb32995",
   "metadata": {},
   "outputs": [
    {
     "name": "stderr",
     "output_type": "stream",
     "text": [
      "INFO: Created TensorFlow Lite XNNPACK delegate for CPU.\n"
     ]
    }
   ],
   "source": [
    "# Model\n",
    "mpHands = mp.solutions.hands\n",
    "hands = mpHands.Hands(\n",
    "    static_image_mode=False,\n",
    "    model_complexity=1,\n",
    "    min_detection_confidence=0.75,\n",
    "    min_tracking_confidence=0.75,\n",
    "    max_num_hands=2)\n",
    "\n",
    "from google.protobuf.json_format import MessageToDict"
   ]
  },
  {
   "cell_type": "code",
   "execution_count": 3,
   "id": "1ae72692",
   "metadata": {},
   "outputs": [
    {
     "name": "stderr",
     "output_type": "stream",
     "text": [
      "Warning: Ignoring XDG_SESSION_TYPE=wayland on Gnome. Use QT_QPA_PLATFORM=wayland to run on Wayland anyway.\n"
     ]
    }
   ],
   "source": [
    "# webcam\n",
    "cap = cv2.VideoCapture(0)\n",
    "  \n",
    "while True:\n",
    "    success, img = cap.read()   # read video frame by frame\n",
    "  \n",
    "    img = cv2.flip(img, 1)      # flip frame\n",
    "  \n",
    "    imgRGB = cv2.cvtColor(img, cv2.COLOR_BGR2RGB)  # RGB\n",
    "  \n",
    "    results = hands.process(imgRGB)\n",
    "  \n",
    "    if results.multi_hand_landmarks:  # if hands are in frame\n",
    "  \n",
    "        for i in results.multi_handedness:\n",
    "\n",
    "            label = MessageToDict(i)['classification'][0]['label']\n",
    "\n",
    "            if label == 'Left':\n",
    "                cv2.putText(img, label+' Hand',\n",
    "                            (20, 50),\n",
    "                            cv2.FONT_HERSHEY_COMPLEX, \n",
    "                            0.9, (0, 255, 0), 2)\n",
    "\n",
    "            if label == 'Right':\n",
    "                cv2.putText(img, label+' Hand', (460, 50),\n",
    "                            cv2.FONT_HERSHEY_COMPLEX,\n",
    "                            0.9, (0, 255, 0), 2)\n",
    "  \n",
    "    cv2.imshow('Image', img)    #q to exit\n",
    "    if cv2.waitKey(1) & 0xff == ord('q'):\n",
    "        cv2.destroyAllWindows()\n",
    "        break"
   ]
  }
 ],
 "metadata": {
  "kernelspec": {
   "display_name": "Python 3 (ipykernel)",
   "language": "python",
   "name": "python3"
  },
  "language_info": {
   "codemirror_mode": {
    "name": "ipython",
    "version": 3
   },
   "file_extension": ".py",
   "mimetype": "text/x-python",
   "name": "python",
   "nbconvert_exporter": "python",
   "pygments_lexer": "ipython3",
   "version": "3.10.12"
  }
 },
 "nbformat": 4,
 "nbformat_minor": 5
}
