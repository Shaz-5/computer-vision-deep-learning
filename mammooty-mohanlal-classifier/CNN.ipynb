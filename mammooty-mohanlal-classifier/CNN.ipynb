{
 "cells": [
  {
   "cell_type": "code",
   "execution_count": 58,
   "metadata": {},
   "outputs": [],
   "source": [
    "import numpy as np\n",
    "import cv2\n",
    "import os\n",
    "import random\n",
    "import matplotlib.pyplot as plt"
   ]
  },
  {
   "cell_type": "code",
   "execution_count": 6,
   "metadata": {},
   "outputs": [],
   "source": [
    "img_size = 224\n",
    "data = []\n",
    "categories = ['mammooty','mohanlal']\n",
    "\n",
    "directories = ['./dataset/mammooty', './dataset/mohanlal']\n",
    "\n",
    "for directory in directories:\n",
    "    for img in os.listdir(directory):\n",
    "        img_path = os.path.join(directory, img)\n",
    "        category_label = directory.split('/')[-1]\n",
    "        label = categories.index(category_label)\n",
    "        img_arr = cv2.imread(img_path, cv2.IMREAD_GRAYSCALE)\n",
    "        img_arr = cv2.resize(img_arr,(img_size,img_size))\n",
    "        data.append([img_arr,label])\n",
    "        \n",
    "# Adds labels to images"
   ]
  },
  {
   "cell_type": "code",
   "execution_count": 7,
   "metadata": {},
   "outputs": [],
   "source": [
    "random.shuffle(data)"
   ]
  },
  {
   "cell_type": "code",
   "execution_count": 8,
   "metadata": {},
   "outputs": [],
   "source": [
    "x = []\n",
    "y = []\n",
    "\n",
    "for features, labels in data:\n",
    "    x.append(features)\n",
    "    y.append(labels)\n",
    "    \n",
    "# Seperating featuers and labels"
   ]
  },
  {
   "cell_type": "code",
   "execution_count": 9,
   "metadata": {},
   "outputs": [],
   "source": [
    "x = np.array(x)\n",
    "y = np.array(y)\n",
    "\n",
    "# Array"
   ]
  },
  {
   "cell_type": "code",
   "execution_count": 10,
   "metadata": {},
   "outputs": [
    {
     "data": {
      "text/plain": [
       "array([[[ 41,  40,  38, ...,  63,  54,  52],\n",
       "        [ 41,  40,  38, ...,  64,  59,  57],\n",
       "        [ 40,  39,  37, ...,  70,  72,  72],\n",
       "        ...,\n",
       "        [ 47,  47,  47, ...,  45,  48,  49],\n",
       "        [ 47,  47,  46, ...,  45,  48,  49],\n",
       "        [ 47,  47,  46, ...,  45,  48,  49]],\n",
       "\n",
       "       [[230, 230, 234, ..., 204, 185, 183],\n",
       "        [231, 231, 234, ..., 204, 186, 183],\n",
       "        [237, 237, 239, ..., 200, 189, 187],\n",
       "        ...,\n",
       "        [186, 186, 184, ..., 105, 102, 102],\n",
       "        [190, 190, 187, ..., 102,  96,  95],\n",
       "        [191, 190, 188, ..., 102,  95,  94]],\n",
       "\n",
       "       [[ 16,  15,  13, ...,  62,  63,  63],\n",
       "        [ 16,  15,  13, ...,  62,  63,  63],\n",
       "        [ 14,  14,  12, ...,  62,  62,  62],\n",
       "        ...,\n",
       "        [132, 130, 122, ...,  11,  11,  11],\n",
       "        [124, 122, 116, ...,  11,  11,  11],\n",
       "        [122, 121, 115, ...,  11,  11,  11]],\n",
       "\n",
       "       ...,\n",
       "\n",
       "       [[ 58,  59,  61, ...,  90, 105, 114],\n",
       "        [ 58,  59,  62, ...,  93, 108, 116],\n",
       "        [ 59,  60,  62, ...,  97, 112, 121],\n",
       "        ...,\n",
       "        [150, 149, 147, ...,  71,  78,  83],\n",
       "        [139, 138, 137, ...,  70,  77,  82],\n",
       "        [133, 132, 131, ...,  69,  77,  81]],\n",
       "\n",
       "       [[ 53,  54,  55, ...,  35,  19,  10],\n",
       "        [ 51,  52,  54, ...,  31,  20,  14],\n",
       "        [ 48,  49,  51, ...,  24,  23,  22],\n",
       "        ...,\n",
       "        [255, 255, 255, ..., 254, 253, 253],\n",
       "        [255, 255, 255, ..., 254, 253, 253],\n",
       "        [255, 255, 255, ..., 254, 253, 253]],\n",
       "\n",
       "       [[220, 221, 224, ...,  13,  13,  13],\n",
       "        [220, 220, 224, ...,  13,  13,  13],\n",
       "        [219, 220, 223, ...,  13,  13,  13],\n",
       "        ...,\n",
       "        [190, 190, 191, ..., 157, 157, 157],\n",
       "        [190, 190, 192, ..., 157, 157, 157],\n",
       "        [190, 190, 192, ..., 157, 157, 157]]], dtype=uint8)"
      ]
     },
     "execution_count": 10,
     "metadata": {},
     "output_type": "execute_result"
    }
   ],
   "source": [
    "x"
   ]
  },
  {
   "cell_type": "code",
   "execution_count": 11,
   "metadata": {},
   "outputs": [
    {
     "data": {
      "text/plain": [
       "array([1, 1, 0, 1, 1, 1, 1, 0, 1, 1, 0, 1, 0, 1, 1, 1, 1, 1, 1, 1, 1, 1,\n",
       "       0, 1, 0, 0, 1, 1, 0, 0, 1, 1, 1, 1, 1, 1, 1, 1, 1, 0, 0, 1, 1, 0,\n",
       "       0, 1, 1, 0, 1, 1, 1, 1, 1, 1, 1, 0, 1, 1, 1, 0, 0, 0, 1, 1, 0, 1,\n",
       "       1, 1, 1, 1, 1, 1, 1, 1, 0, 1, 1, 1, 1, 1, 1, 0, 0, 1, 1, 0, 1, 0,\n",
       "       0, 1, 1, 1, 0, 1, 1, 1, 1, 1, 0, 1, 1, 1, 1, 1, 1, 1, 1, 1, 1, 1,\n",
       "       0, 1, 1, 1, 0, 1, 0, 1, 0, 0, 0, 0, 0, 0, 1, 0, 1, 1, 1, 1, 1, 1,\n",
       "       1, 0, 1, 1, 1, 0, 1, 0, 1, 1, 1, 0, 1, 0, 0, 0, 0, 1, 0, 0, 1, 1,\n",
       "       0, 1, 1, 1, 1, 1, 0, 0, 1, 1, 1, 1, 1, 0, 1, 0, 0, 1, 1, 1, 1, 1,\n",
       "       1, 0, 1, 1, 1, 1, 0, 1, 0, 1, 1, 0, 1, 0, 0, 1, 1, 1, 1, 0, 1, 0,\n",
       "       0, 0, 1, 1, 0, 0, 0, 1, 1, 1, 1, 0, 0, 1, 0, 0, 1, 0, 0, 1, 0, 1,\n",
       "       1, 1, 0, 0, 1, 0, 1, 1, 1, 0, 1, 0, 1, 1, 1, 1, 1, 1, 0, 1, 0, 1,\n",
       "       1, 1, 1, 0, 0, 1, 1, 1, 0, 1, 1, 1, 1, 1, 1, 0, 1, 1, 1, 1, 1, 1,\n",
       "       0, 1, 1, 1, 1, 1, 1, 1, 0, 0, 1, 0, 1, 0, 0, 0, 1, 0, 1, 1, 1, 0,\n",
       "       1, 1, 1, 1, 1, 1, 1, 1, 0, 0, 1, 1, 1, 1, 0, 0, 1, 0, 0, 1, 0, 1,\n",
       "       1, 1, 1, 1, 1, 1, 1, 1, 1, 1, 1, 1, 0, 1, 1, 1, 1, 1, 0, 1, 0, 0,\n",
       "       1, 1, 1, 1, 0, 0, 1, 1, 1, 1, 1, 1, 1, 1, 1, 0, 0, 1, 1, 1, 0, 1,\n",
       "       0, 1, 0, 0, 0, 1, 1, 0, 0, 0, 1, 1, 0, 1, 0, 1, 0, 0, 0, 0, 0, 1,\n",
       "       0, 1, 1, 0, 0, 0, 1, 1, 1, 0, 0, 1, 1, 1, 0, 1, 1, 0, 1, 1, 1, 1,\n",
       "       1, 1, 1, 1, 1, 0, 1, 1, 1, 1, 1, 1, 1, 0, 1, 1, 1, 0, 0, 0, 0, 1,\n",
       "       1, 1, 0, 1, 1, 1, 0, 1, 1, 1, 0, 1, 1, 0, 0, 0, 1, 0, 0, 0, 1, 1,\n",
       "       0, 1, 1, 1, 1, 0, 1, 0, 0, 0, 1, 1, 1, 1, 1, 1, 1, 0, 1, 1, 1, 1,\n",
       "       1, 0, 1, 0, 1, 0, 1, 1, 1, 0, 0, 1, 1, 1, 0, 1, 1, 0, 0, 0, 1, 0,\n",
       "       1, 1, 1, 0, 0, 0, 1, 1, 1, 1, 1, 0, 1, 1, 1, 0, 1, 1, 0, 0, 1, 1,\n",
       "       1, 1, 1, 1, 1, 0, 1, 1, 1, 0, 0, 0, 1, 1, 0, 1, 1, 0, 1, 1, 1, 1,\n",
       "       1, 0, 1, 1, 1, 1, 1, 0, 0, 1, 1, 1, 1, 1, 1, 1, 1, 1, 1, 1, 1, 0,\n",
       "       1, 1, 1, 1, 1, 1, 1, 1, 1, 0, 1, 1, 1, 1, 1, 1, 1, 1, 1, 0, 0, 1,\n",
       "       1, 1, 0, 1, 1, 1, 1, 1, 1, 1, 1, 1, 0, 0, 0, 0, 0, 1, 1, 1, 1, 1,\n",
       "       1, 0, 1, 1, 1, 0, 0, 1, 0, 1, 1, 0, 0, 1, 1, 0, 1, 1, 0, 0, 1, 1,\n",
       "       1, 1, 1, 0, 1, 1, 1, 1, 1, 0, 1, 1, 0, 0, 1, 1, 1, 0, 0, 1, 1, 1,\n",
       "       1, 1, 1, 1, 1, 1, 0, 1, 1, 1, 0, 1, 1, 0, 1, 1, 1, 1, 1, 0, 0, 1,\n",
       "       1, 0, 1, 0, 1, 1, 0, 1, 1, 0, 1, 1, 1, 1, 1, 1, 0, 0, 1, 1, 1, 1,\n",
       "       1, 1, 1, 1, 1, 1, 0, 1, 0, 1, 1, 0, 1, 1, 1, 1, 0, 1, 1, 1, 1, 0,\n",
       "       0, 1, 1, 0, 0, 1, 1, 1, 1, 1, 1, 0, 1, 0, 1, 1, 1, 1, 0, 1, 1, 1,\n",
       "       1, 1, 1, 1, 0, 0, 0, 1, 1, 1, 1, 1, 1, 1, 1, 1, 1, 0, 1, 1, 1, 0,\n",
       "       1, 1, 1, 1, 0, 1, 1, 1, 1, 0, 0, 0, 1, 0, 1, 1, 1, 1, 0, 1, 1, 0,\n",
       "       0, 1, 1, 1, 1, 0, 1, 1, 1, 1, 1, 1, 0, 0, 0, 1, 1, 0, 0, 1, 1, 1,\n",
       "       1, 0, 1, 1, 1, 1, 0, 0, 1, 1, 0, 1, 1, 1, 0, 1, 0, 1, 0, 1, 1, 0,\n",
       "       1, 1, 1, 1, 1, 0, 0, 1, 1, 1, 0, 1, 1, 1, 1, 1, 1, 0, 1, 1, 1, 1,\n",
       "       1, 1, 1, 1, 1, 1, 0, 1, 0, 0, 1, 1, 1, 1, 1, 0, 1, 1, 0, 0, 1, 0,\n",
       "       1, 1, 1, 0, 0, 1, 0, 1, 1, 1, 1, 1, 1, 1, 1, 1, 1, 1, 0, 1, 1, 1,\n",
       "       0, 0, 1, 1, 0, 1, 1, 1, 1, 1, 1, 0, 1, 1, 1, 1, 0, 0, 1, 0, 0, 0,\n",
       "       1, 1, 0, 1, 0, 1, 1, 1, 1, 1, 1, 1, 1, 1, 1, 1, 1, 0, 1, 0, 1, 0,\n",
       "       0, 0, 1, 1, 1, 1, 0, 1, 0, 1, 1, 0, 1, 1, 1, 1, 1, 1, 1, 1, 1, 0,\n",
       "       1, 1, 1, 1, 1, 1, 0, 1, 1, 1, 0, 1, 0, 1, 1, 1, 1, 0, 1, 1, 1, 1,\n",
       "       1, 1, 0, 1, 1, 1, 1, 1, 0, 1, 1, 1, 1, 1, 1, 0, 1, 0, 1, 1, 0, 0,\n",
       "       1, 1, 1, 1])"
      ]
     },
     "execution_count": 11,
     "metadata": {},
     "output_type": "execute_result"
    }
   ],
   "source": [
    "y"
   ]
  },
  {
   "cell_type": "code",
   "execution_count": 12,
   "metadata": {},
   "outputs": [
    {
     "data": {
      "text/plain": [
       "array([[[0.16078431, 0.15686275, 0.14901961, ..., 0.24705882,\n",
       "         0.21176471, 0.20392157],\n",
       "        [0.16078431, 0.15686275, 0.14901961, ..., 0.25098039,\n",
       "         0.23137255, 0.22352941],\n",
       "        [0.15686275, 0.15294118, 0.14509804, ..., 0.2745098 ,\n",
       "         0.28235294, 0.28235294],\n",
       "        ...,\n",
       "        [0.18431373, 0.18431373, 0.18431373, ..., 0.17647059,\n",
       "         0.18823529, 0.19215686],\n",
       "        [0.18431373, 0.18431373, 0.18039216, ..., 0.17647059,\n",
       "         0.18823529, 0.19215686],\n",
       "        [0.18431373, 0.18431373, 0.18039216, ..., 0.17647059,\n",
       "         0.18823529, 0.19215686]],\n",
       "\n",
       "       [[0.90196078, 0.90196078, 0.91764706, ..., 0.8       ,\n",
       "         0.7254902 , 0.71764706],\n",
       "        [0.90588235, 0.90588235, 0.91764706, ..., 0.8       ,\n",
       "         0.72941176, 0.71764706],\n",
       "        [0.92941176, 0.92941176, 0.9372549 , ..., 0.78431373,\n",
       "         0.74117647, 0.73333333],\n",
       "        ...,\n",
       "        [0.72941176, 0.72941176, 0.72156863, ..., 0.41176471,\n",
       "         0.4       , 0.4       ],\n",
       "        [0.74509804, 0.74509804, 0.73333333, ..., 0.4       ,\n",
       "         0.37647059, 0.37254902],\n",
       "        [0.74901961, 0.74509804, 0.7372549 , ..., 0.4       ,\n",
       "         0.37254902, 0.36862745]],\n",
       "\n",
       "       [[0.0627451 , 0.05882353, 0.05098039, ..., 0.24313725,\n",
       "         0.24705882, 0.24705882],\n",
       "        [0.0627451 , 0.05882353, 0.05098039, ..., 0.24313725,\n",
       "         0.24705882, 0.24705882],\n",
       "        [0.05490196, 0.05490196, 0.04705882, ..., 0.24313725,\n",
       "         0.24313725, 0.24313725],\n",
       "        ...,\n",
       "        [0.51764706, 0.50980392, 0.47843137, ..., 0.04313725,\n",
       "         0.04313725, 0.04313725],\n",
       "        [0.48627451, 0.47843137, 0.45490196, ..., 0.04313725,\n",
       "         0.04313725, 0.04313725],\n",
       "        [0.47843137, 0.4745098 , 0.45098039, ..., 0.04313725,\n",
       "         0.04313725, 0.04313725]],\n",
       "\n",
       "       ...,\n",
       "\n",
       "       [[0.22745098, 0.23137255, 0.23921569, ..., 0.35294118,\n",
       "         0.41176471, 0.44705882],\n",
       "        [0.22745098, 0.23137255, 0.24313725, ..., 0.36470588,\n",
       "         0.42352941, 0.45490196],\n",
       "        [0.23137255, 0.23529412, 0.24313725, ..., 0.38039216,\n",
       "         0.43921569, 0.4745098 ],\n",
       "        ...,\n",
       "        [0.58823529, 0.58431373, 0.57647059, ..., 0.27843137,\n",
       "         0.30588235, 0.3254902 ],\n",
       "        [0.54509804, 0.54117647, 0.5372549 , ..., 0.2745098 ,\n",
       "         0.30196078, 0.32156863],\n",
       "        [0.52156863, 0.51764706, 0.51372549, ..., 0.27058824,\n",
       "         0.30196078, 0.31764706]],\n",
       "\n",
       "       [[0.20784314, 0.21176471, 0.21568627, ..., 0.1372549 ,\n",
       "         0.0745098 , 0.03921569],\n",
       "        [0.2       , 0.20392157, 0.21176471, ..., 0.12156863,\n",
       "         0.07843137, 0.05490196],\n",
       "        [0.18823529, 0.19215686, 0.2       , ..., 0.09411765,\n",
       "         0.09019608, 0.08627451],\n",
       "        ...,\n",
       "        [1.        , 1.        , 1.        , ..., 0.99607843,\n",
       "         0.99215686, 0.99215686],\n",
       "        [1.        , 1.        , 1.        , ..., 0.99607843,\n",
       "         0.99215686, 0.99215686],\n",
       "        [1.        , 1.        , 1.        , ..., 0.99607843,\n",
       "         0.99215686, 0.99215686]],\n",
       "\n",
       "       [[0.8627451 , 0.86666667, 0.87843137, ..., 0.05098039,\n",
       "         0.05098039, 0.05098039],\n",
       "        [0.8627451 , 0.8627451 , 0.87843137, ..., 0.05098039,\n",
       "         0.05098039, 0.05098039],\n",
       "        [0.85882353, 0.8627451 , 0.8745098 , ..., 0.05098039,\n",
       "         0.05098039, 0.05098039],\n",
       "        ...,\n",
       "        [0.74509804, 0.74509804, 0.74901961, ..., 0.61568627,\n",
       "         0.61568627, 0.61568627],\n",
       "        [0.74509804, 0.74509804, 0.75294118, ..., 0.61568627,\n",
       "         0.61568627, 0.61568627],\n",
       "        [0.74509804, 0.74509804, 0.75294118, ..., 0.61568627,\n",
       "         0.61568627, 0.61568627]]])"
      ]
     },
     "execution_count": 12,
     "metadata": {},
     "output_type": "execute_result"
    }
   ],
   "source": [
    "x = x/255\n",
    "x\n",
    "\n",
    "# Normalisation"
   ]
  },
  {
   "cell_type": "code",
   "execution_count": 13,
   "metadata": {},
   "outputs": [
    {
     "data": {
      "text/plain": [
       "(994, 256, 256)"
      ]
     },
     "execution_count": 13,
     "metadata": {},
     "output_type": "execute_result"
    }
   ],
   "source": [
    "x.shape"
   ]
  },
  {
   "cell_type": "code",
   "execution_count": 14,
   "metadata": {},
   "outputs": [
    {
     "data": {
      "text/plain": [
       "(994, 256, 256, 1)"
      ]
     },
     "execution_count": 14,
     "metadata": {},
     "output_type": "execute_result"
    }
   ],
   "source": [
    "x = x.reshape(-1, 256, 256, 1)\n",
    "x.shape"
   ]
  },
  {
   "cell_type": "code",
   "execution_count": 36,
   "metadata": {
    "scrolled": false
   },
   "outputs": [],
   "source": [
    "from keras.models import Sequential\n",
    "from keras.layers import Conv2D, MaxPooling2D, Dense, Flatten\n",
    "import keras\n",
    "\n",
    "model = Sequential()"
   ]
  },
  {
   "cell_type": "code",
   "execution_count": 37,
   "metadata": {},
   "outputs": [],
   "source": [
    "# Convolution\n",
    "model.add(Conv2D(64,(3,3), activation='relu'))\n",
    "# Pooling\n",
    "model.add(MaxPooling2D((2,2)))\n",
    "\n",
    "# Convolution and Pooling - 2nd layer\n",
    "model.add(Conv2D(64,(3,3), activation='relu'))\n",
    "model.add(MaxPooling2D((2,2)))\n",
    "\n",
    "# Coverting to 1 dimension\n",
    "model.add(Flatten())\n",
    "\n",
    "# Neural network with 128 nodes\n",
    "model.add(Dense(128, input_shape = (256,256,1), activation = 'relu'))\n",
    "\n",
    "# Output Layer\n",
    "model.add(Dense(2, activation= 'sigmoid'))"
   ]
  },
  {
   "cell_type": "code",
   "execution_count": 38,
   "metadata": {},
   "outputs": [],
   "source": [
    "model.compile(optimizer = 'adam', loss='sparse_categorical_crossentropy', metrics = ['accuracy'])\n",
    "\n",
    "# Compile"
   ]
  },
  {
   "cell_type": "code",
   "execution_count": 39,
   "metadata": {
    "scrolled": false
   },
   "outputs": [
    {
     "name": "stdout",
     "output_type": "stream",
     "text": [
      "Epoch 1/10\n",
      "25/25 [==============================] - 37s 1s/step - loss: 1.2031 - accuracy: 0.6478 - val_loss: 0.5816 - val_accuracy: 0.7387\n",
      "Epoch 2/10\n",
      "25/25 [==============================] - 36s 1s/step - loss: 0.5861 - accuracy: 0.7132 - val_loss: 0.5228 - val_accuracy: 0.7739\n",
      "Epoch 3/10\n",
      "25/25 [==============================] - 37s 1s/step - loss: 0.4106 - accuracy: 0.8264 - val_loss: 0.3670 - val_accuracy: 0.8241\n",
      "Epoch 4/10\n",
      "25/25 [==============================] - 40s 2s/step - loss: 0.2453 - accuracy: 0.8943 - val_loss: 0.2540 - val_accuracy: 0.8894\n",
      "Epoch 5/10\n",
      "25/25 [==============================] - 39s 2s/step - loss: 0.1404 - accuracy: 0.9535 - val_loss: 0.2567 - val_accuracy: 0.8894\n",
      "Epoch 6/10\n",
      "25/25 [==============================] - 37s 1s/step - loss: 0.1230 - accuracy: 0.9522 - val_loss: 0.1630 - val_accuracy: 0.9497\n",
      "Epoch 7/10\n",
      "25/25 [==============================] - 38s 2s/step - loss: 0.0673 - accuracy: 0.9799 - val_loss: 0.1418 - val_accuracy: 0.9447\n",
      "Epoch 8/10\n",
      "25/25 [==============================] - 38s 2s/step - loss: 0.0296 - accuracy: 0.9912 - val_loss: 0.1298 - val_accuracy: 0.9548\n",
      "Epoch 9/10\n",
      "25/25 [==============================] - 38s 2s/step - loss: 0.0146 - accuracy: 0.9975 - val_loss: 0.1329 - val_accuracy: 0.9598\n",
      "Epoch 10/10\n",
      "25/25 [==============================] - 40s 2s/step - loss: 0.0077 - accuracy: 1.0000 - val_loss: 0.1400 - val_accuracy: 0.9598\n"
     ]
    },
    {
     "data": {
      "text/plain": [
       "<keras.src.callbacks.History at 0x7ff2fc1c42e0>"
      ]
     },
     "execution_count": 39,
     "metadata": {},
     "output_type": "execute_result"
    }
   ],
   "source": [
    "model.fit(x, y, epochs=10, validation_split=0.2)\n",
    "\n",
    "# Training"
   ]
  },
  {
   "cell_type": "code",
   "execution_count": 41,
   "metadata": {},
   "outputs": [
    {
     "name": "stdout",
     "output_type": "stream",
     "text": [
      "32/32 [==============================] - 7s 228ms/step - loss: 0.0327 - accuracy: 0.9920\n",
      "Accuracy:  99.19517040252686\n"
     ]
    }
   ],
   "source": [
    "acc = model.evaluate(x,y)\n",
    "print(\"Accuracy: \", (acc[1]*100))"
   ]
  },
  {
   "cell_type": "code",
   "execution_count": 43,
   "metadata": {},
   "outputs": [],
   "source": [
    "model.save('CNN.model',save_format = 'h5')"
   ]
  },
  {
   "cell_type": "code",
   "execution_count": 31,
   "metadata": {},
   "outputs": [],
   "source": [
    "model = keras.models.load_model('CNN.keras')"
   ]
  },
  {
   "cell_type": "code",
   "execution_count": 50,
   "metadata": {},
   "outputs": [],
   "source": [
    "def load_image(path):\n",
    "    img = cv2.imread(path, cv2.IMREAD_GRAYSCALE)\n",
    "    new_img = cv2.resize(img, (256,256))\n",
    "    new_img = np.array(new_img)\n",
    "    new_img = new_img.reshape(-1,256,256,1)\n",
    "    return new_img\n",
    "\n",
    "# Preprocessing user input image"
   ]
  },
  {
   "cell_type": "code",
   "execution_count": 64,
   "metadata": {},
   "outputs": [
    {
     "name": "stdout",
     "output_type": "stream",
     "text": [
      "1/1 [==============================] - 0s 31ms/step\n",
      "Mammooty\n"
     ]
    },
    {
     "data": {
      "text/plain": [
       "<matplotlib.image.AxesImage at 0x7ff2fc33a890>"
      ]
     },
     "execution_count": 64,
     "metadata": {},
     "output_type": "execute_result"
    },
    {
     "data": {
      "image/png": "[encoded data removed]",
      "text/plain": [
       "<Figure size 432x288 with 1 Axes>"
      ]
     },
     "metadata": {
      "needs_background": "light"
     },
     "output_type": "display_data"
    }
   ],
   "source": [
    "image = './test/mammooty.png'\n",
    "\n",
    "result = model.predict([load_image(image)])\n",
    "\n",
    "if result[0][0] == 0:\n",
    "    predict = 'Mohanlal'\n",
    "elif result[0][0] == 1:\n",
    "    predict = 'Mammooty'\n",
    "else:\n",
    "    predict = 'None'\n",
    "\n",
    "print(predict)\n",
    "plt.imshow(cv2.imread(image))"
   ]
  }
 ],
 "metadata": {
  "kernelspec": {
   "display_name": "Python 3 (ipykernel)",
   "language": "python",
   "name": "python3"
  },
  "language_info": {
   "codemirror_mode": {
    "name": "ipython",
    "version": 3
   },
   "file_extension": ".py",
   "mimetype": "text/x-python",
   "name": "python",
   "nbconvert_exporter": "python",
   "pygments_lexer": "ipython3",
   "version": "3.10.12"
  }
 },
 "nbformat": 4,
 "nbformat_minor": 4
}
